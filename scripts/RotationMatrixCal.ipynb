{
 "cells": [
  {
   "cell_type": "code",
   "execution_count": 11,
   "metadata": {},
   "outputs": [],
   "source": [
    "import numpy as np\n",
    "import csv\n",
    "import scipy.io"
   ]
  },
  {
   "cell_type": "code",
   "execution_count": 2,
   "metadata": {},
   "outputs": [],
   "source": [
    "csvFile = \"res.txt\""
   ]
  },
  {
   "cell_type": "code",
   "execution_count": 3,
   "metadata": {},
   "outputs": [
    {
     "name": "stdout",
     "output_type": "stream",
     "text": [
      "<class 'float'> [-0.0309107, 0.108237, -0.993644, 0.99968, -0.0159194, -0.0196415, -1.63108]\n"
     ]
    }
   ],
   "source": [
    "# read the csv file\n",
    "vectors = []\n",
    "with open(csvFile) as f:\n",
    "    csvReader = csv.reader(f, delimiter = ',')\n",
    "    for row in csvReader:\n",
    "        vectors.append([float(e) for e in row])\n",
    "        \n",
    "print(type (vectors[0][0]),vectors[0])"
   ]
  },
  {
   "cell_type": "code",
   "execution_count": 4,
   "metadata": {},
   "outputs": [
    {
     "name": "stdout",
     "output_type": "stream",
     "text": [
      "(34, 7)\n"
     ]
    }
   ],
   "source": [
    "vecs = np.array(vectors,dtype = np.float32)\n",
    "print(vecs.shape)"
   ]
  },
  {
   "cell_type": "code",
   "execution_count": 5,
   "metadata": {},
   "outputs": [
    {
     "name": "stdout",
     "output_type": "stream",
     "text": [
      "[-0.0309107  0.108237  -0.993644 ]\n",
      "[ 0.99968   -0.0159194 -0.0196415]\n"
     ]
    }
   ],
   "source": [
    "noramlFromCam = vecs[:,:3]\n",
    "noramlFromPC = vecs[:,3:6]\n",
    "print(noramlFromCam[0,:])\n",
    "print(noramlFromPC[0,:])"
   ]
  },
  {
   "cell_type": "code",
   "execution_count": 27,
   "metadata": {},
   "outputs": [
    {
     "name": "stdout",
     "output_type": "stream",
     "text": [
      "0 from cam 0.9999995 from PC 0.99999964\n",
      "1 from cam 1.0 from PC 1.0000001\n",
      "2 from cam 0.9999999 from PC 0.9999996\n",
      "3 from cam 0.99999946 from PC 1.0\n",
      "4 from cam 0.9999995 from PC 1.0000001\n",
      "5 from cam 0.9999996 from PC 0.9999998\n",
      "6 from cam 0.9999998 from PC 1.0\n",
      "7 from cam 0.99999946 from PC 0.9999998\n",
      "8 from cam 0.9999996 from PC 1.0000001\n",
      "9 from cam 1.0000002 from PC 0.9999997\n",
      "10 from cam 1.0000004 from PC 1.0\n",
      "11 from cam 0.99999946 from PC 0.9999994\n",
      "12 from cam 0.9999997 from PC 0.99999964\n",
      "13 from cam 0.9999997 from PC 0.9999999\n",
      "14 from cam 1.0000001 from PC 1.0\n",
      "15 from cam 0.9999999 from PC 1.0\n",
      "16 from cam 1.0 from PC 0.9999999\n",
      "17 from cam 0.9999997 from PC 0.99999964\n",
      "18 from cam 0.99999964 from PC 0.9999995\n",
      "19 from cam 1.0 from PC 1.0000002\n",
      "20 from cam 1.0000001 from PC 0.9999997\n",
      "21 from cam 1.0000005 from PC 1.0000006\n",
      "22 from cam 0.9999996 from PC 1.0000001\n",
      "23 from cam 0.99999964 from PC 1.0000001\n",
      "24 from cam 1.0000001 from PC 0.9999999\n",
      "25 from cam 1.0000002 from PC 0.99999994\n",
      "26 from cam 0.9999995 from PC 1.0000006\n",
      "27 from cam 0.9999998 from PC 1.0000002\n",
      "28 from cam 0.9999998 from PC 1.0000002\n",
      "29 from cam 1.0 from PC 1.0\n",
      "30 from cam 0.99999994 from PC 1.0000001\n",
      "31 from cam 0.99999994 from PC 1.0000004\n",
      "32 from cam 1.0 from PC 1.0000001\n",
      "33 from cam 1.0000004 from PC 0.9999998\n"
     ]
    }
   ],
   "source": [
    "# check the norm of the normal vectors\n",
    "for i in range(vecs.shape[0]):\n",
    "    print(i, 'from cam', np.linalg.norm(noramlFromCam[i,:]), 'from PC', np.linalg.norm(noramlFromPC[i,:]))"
   ]
  },
  {
   "cell_type": "code",
   "execution_count": 6,
   "metadata": {},
   "outputs": [
    {
     "name": "stdout",
     "output_type": "stream",
     "text": [
      "A_c:\n",
      "[[ 0.         0.993644   0.108237 ]\n",
      " [-0.993644   0.         0.0309107]\n",
      " [-0.108237  -0.0309107  0.       ]]\n",
      "A_l:\n",
      "[[ 0.99968   -0.0159194 -0.0196415  0.         0.         0.\n",
      "   0.         0.         0.       ]\n",
      " [ 0.         0.         0.         0.99968   -0.0159194 -0.0196415\n",
      "   0.         0.         0.       ]\n",
      " [ 0.         0.         0.         0.         0.         0.\n",
      "   0.99968   -0.0159194 -0.0196415]]\n",
      "A: \n",
      "[[ 0.0000000e+00  0.0000000e+00  0.0000000e+00  9.9332601e-01\n",
      "  -1.5818216e-02 -1.9516658e-02  1.0820236e-01 -1.7230681e-03\n",
      "  -2.1259370e-03]\n",
      " [-9.9332601e-01  1.5818216e-02  1.9516658e-02  0.0000000e+00\n",
      "   0.0000000e+00  0.0000000e+00  3.0900808e-02 -4.9207982e-04\n",
      "  -6.0713250e-04]\n",
      " [-1.0820236e-01  1.7230681e-03  2.1259370e-03 -3.0900808e-02\n",
      "   4.9207982e-04  6.0713250e-04  0.0000000e+00  0.0000000e+00\n",
      "   0.0000000e+00]]\n"
     ]
    }
   ],
   "source": [
    "v_c = noramlFromCam[0,:]\n",
    "v_l = noramlFromPC[0,:]\n",
    "# reform the equation according to the notebook for one example\n",
    "A_c = np.array([[0, -v_c[2], v_c[1]],\n",
    "               [v_c[2], 0 , -v_c[0]],\n",
    "               [-v_c[1], v_c[0], 0]], dtype = np.float32)\n",
    "A_l = np.zeros((3,9), dtype=np.float32)\n",
    "expanded = np.expand_dims(v_l,0)\n",
    "A_l[0,0:3] = expanded\n",
    "A_l[1,3:6] = expanded\n",
    "A_l[2,6:9] = expanded\n",
    "print(\"A_c:\")\n",
    "print(A_c)\n",
    "print(\"A_l:\")\n",
    "print(A_l)\n",
    "A = np.matmul(A_c,A_l)\n",
    "print (\"A: \")\n",
    "print(A)"
   ]
  },
  {
   "cell_type": "code",
   "execution_count": 13,
   "metadata": {},
   "outputs": [
    {
     "name": "stdout",
     "output_type": "stream",
     "text": [
      "(102, 9)\n",
      "[[ 0.          0.          0.          0.9928119  -0.06490025  0.05722414\n",
      "  -0.05956154  0.00389355 -0.00343303]\n",
      " [-0.9928119   0.06490025 -0.05722414  0.          0.          0.\n",
      "  -0.05690531  0.00371991 -0.00327993]\n",
      " [ 0.05956154 -0.00389355  0.00343303  0.05690531 -0.00371991  0.00327993\n",
      "   0.          0.          0.        ]\n",
      " [ 0.          0.          0.          0.9732081  -0.0228026   0.20040181\n",
      "   0.06124817 -0.00143507  0.01261215]\n",
      " [-0.9732081   0.0228026  -0.20040181  0.          0.          0.\n",
      "  -0.08905507  0.00208659 -0.01833811]\n",
      " [-0.06124817  0.00143507 -0.01261215  0.08905507 -0.00208659  0.01833811\n",
      "   0.          0.          0.        ]]\n"
     ]
    }
   ],
   "source": [
    "# make the big A matrix in equation AR = 0\n",
    "A = np.empty((0,9), dtype=np.float32)\n",
    "for idx in range(vecs.shape[0]):\n",
    "    v_c = noramlFromCam[idx,:]\n",
    "    v_l = noramlFromPC[idx,:]\n",
    "    A_c = np.array([[0, -v_c[2], v_c[1]],\n",
    "                    [v_c[2], 0 , -v_c[0]],\n",
    "                    [-v_c[1], v_c[0], 0]], dtype = np.float32)\n",
    "    A_l = np.zeros((3,9), dtype=np.float32)\n",
    "    expanded = np.expand_dims(v_l,0)\n",
    "    A_l[0,0:3] = expanded\n",
    "    A_l[1,3:6] = expanded\n",
    "    A_l[2,6:9] = expanded\n",
    "    a = np.matmul(A_c,A_l)\n",
    "    A = np.concatenate((A,a),axis=0)\n",
    "print (A.shape)\n",
    "print (A[12:18,:])\n",
    "scipy.io.savemat('A.mat',mdict={'A': A}) # to check the svd in Matlab as well."
   ]
  },
  {
   "cell_type": "code",
   "execution_count": 8,
   "metadata": {},
   "outputs": [
    {
     "name": "stdout",
     "output_type": "stream",
     "text": [
      "v: (9, 9)\n",
      "[[-9.50357735e-01  3.17152292e-02 -2.47063860e-01 -1.57164093e-02\n",
      "   8.52811895e-03 -1.60221406e-03 -1.70825437e-01  8.35461356e-03\n",
      "  -7.21137151e-02]\n",
      " [-2.76097190e-02 -2.46996749e-02 -8.21555872e-03  9.55237031e-01\n",
      "  -5.37583977e-02  2.65684754e-01  6.50251657e-02  8.99107158e-02\n",
      "   1.70799680e-02]\n",
      " [ 1.54861331e-01  4.47984086e-04 -7.67409205e-02  2.37647723e-02\n",
      "  -6.39731467e-01  3.34591828e-02 -6.57906950e-01 -1.56778559e-01\n",
      "  -3.19009304e-01]\n",
      " [ 5.09570502e-02  9.60146070e-01 -3.58240791e-02  2.97672488e-03\n",
      "  -4.90612071e-03 -5.40395326e-04 -2.88785491e-02  2.69407988e-01\n",
      "  -2.81376056e-02]\n",
      " [-1.94224939e-02  2.55955249e-01  4.81964797e-02  1.72580749e-01\n",
      "   1.61120340e-01 -2.69090116e-01  2.02203114e-02 -8.95370424e-01\n",
      "   3.91966179e-02]\n",
      " [ 1.49411827e-01 -9.57631320e-02 -4.20436502e-01  1.86173111e-01\n",
      "   2.73006350e-01 -6.52692378e-01 -3.35516706e-02  2.06979141e-01\n",
      "  -4.61055696e-01]\n",
      " [-1.62766978e-01 -2.03713682e-02  5.14809012e-01  1.34739220e-01\n",
      "  -3.47332299e-01 -6.46554291e-01  1.86286075e-03  1.97896987e-01\n",
      "   3.34768713e-01]\n",
      " [ 1.31203264e-01 -1.22763235e-02 -6.59348249e-01  1.20946523e-02\n",
      "  -1.57423049e-01 -1.05268218e-01 -8.67143720e-02 -7.07718357e-03\n",
      "   7.10151911e-01]\n",
      " [ 5.54144382e-02 -3.54128778e-02  2.29915708e-01  6.28971234e-02\n",
      "   5.84673345e-01  2.75417026e-02 -7.23779976e-01  1.04614735e-01\n",
      "   2.47900605e-01]]\n",
      "s: (9,)\n",
      "[5.1956797  5.055921   2.2744968  2.1864765  1.4122275  1.2684535\n",
      " 1.2321897  0.44620454 0.4096294 ]\n",
      "u: (102, 102)\n",
      "[[-0.00655544  0.18816978 -0.0163404  ...  0.06181968  0.0353922\n",
      "   0.08736398]\n",
      " [ 0.17985249  0.00570205 -0.07710605 ...  0.01452122 -0.04913222\n",
      "   0.01152922]\n",
      " [ 0.01979514 -0.00523254 -0.00789079 ...  0.00356712  0.47029015\n",
      "   0.07833829]\n",
      " ...\n",
      " [-0.00345283  0.078221   -0.01445873 ...  0.85556805  0.03943983\n",
      "  -0.18499486]\n",
      " [ 0.09437535 -0.00463589  0.20084739 ...  0.0357964   0.4728075\n",
      "  -0.03514436]\n",
      " [ 0.01020293  0.10280678  0.01230224 ... -0.18556517 -0.03032196\n",
      "   0.7496415 ]]\n"
     ]
    }
   ],
   "source": [
    "# calculate the SVD and solve for R in AR = 0\n",
    "u,s,v = np.linalg.svd(A)\n",
    "print(\"v:\", v.shape)\n",
    "print(v)\n",
    "print(\"s:\", s.shape)\n",
    "print(s)\n",
    "print(\"u:\", u.shape)\n",
    "print(u)"
   ]
  },
  {
   "cell_type": "code",
   "execution_count": 28,
   "metadata": {},
   "outputs": [
    {
     "name": "stdout",
     "output_type": "stream",
     "text": [
      "[ 0.05541444 -0.03541288  0.22991571  0.06289712  0.58467335  0.0275417\n",
      " -0.72378     0.10461473  0.2479006 ]\n"
     ]
    }
   ],
   "source": [
    "R_vec = v[-1,:]\n",
    "print(R_vec)"
   ]
  },
  {
   "cell_type": "code",
   "execution_count": 29,
   "metadata": {},
   "outputs": [
    {
     "name": "stdout",
     "output_type": "stream",
     "text": [
      "[[ 0.05541444 -0.03541288  0.22991571]\n",
      " [ 0.06289712  0.58467335  0.0275417 ]\n",
      " [-0.72378     0.10461473  0.2479006 ]]\n"
     ]
    }
   ],
   "source": [
    "# reshape to R\n",
    "R = R_vec.reshape((3,3))\n",
    "print(R)"
   ]
  },
  {
   "cell_type": "code",
   "execution_count": 21,
   "metadata": {},
   "outputs": [
    {
     "name": "stdout",
     "output_type": "stream",
     "text": [
      "norm of column  0 is 0.728618\n",
      "norm of column  1 is 0.5950137\n",
      "norm of column  2 is 0.3392263\n",
      "R*R.transpose= \n",
      "[[ 0.05718606 -0.01088729  0.01318367]\n",
      " [-0.01088729  0.34655753  0.02246937]\n",
      " [ 0.01318367  0.02246937  0.59625643]]\n"
     ]
    }
   ],
   "source": [
    "# Check how close it is to a rotation matrix now\n",
    "def check(R):\n",
    "    for i in range(3):\n",
    "        n = np.linalg.norm(R[:,i])\n",
    "        print(\"norm of column\", i , \"is\" , n)\n",
    "\n",
    "    print (\"R*R.transpose= \")\n",
    "    RRT = np.matmul(R,R.transpose())\n",
    "    print (RRT)\n",
    "\n",
    "check(R)"
   ]
  },
  {
   "cell_type": "code",
   "execution_count": 25,
   "metadata": {},
   "outputs": [
    {
     "name": "stdout",
     "output_type": "stream",
     "text": [
      "S: [0.77365094 0.5874115  0.23751189]\n",
      "[[-0.35762963 -0.02971518  0.93339056]\n",
      " [ 0.10502882  0.9918725   0.0718189 ]\n",
      " [-0.9279386   0.12371748 -0.35160205]]\n"
     ]
    }
   ],
   "source": [
    "# try to turn it to a rotational Matrix\n",
    "U,S,V = np.linalg.svd(R)\n",
    "R_new = np.matmul(U, V.transpose())\n",
    "print(\"S:\",S)\n",
    "print(R_new)"
   ]
  },
  {
   "cell_type": "code",
   "execution_count": 24,
   "metadata": {},
   "outputs": [
    {
     "name": "stdout",
     "output_type": "stream",
     "text": [
      "norm of column  0 is 1.0\n",
      "norm of column  1 is 1.0\n",
      "norm of column  2 is 0.99999994\n",
      "R*R.transpose= \n",
      "[[ 9.9999988e-01 -1.4845863e-08  1.0247673e-08]\n",
      " [-1.4845863e-08  1.0000001e+00 -6.5472765e-09]\n",
      " [ 1.0247673e-08 -6.5472765e-09  1.0000000e+00]]\n"
     ]
    }
   ],
   "source": [
    "check(R_new)"
   ]
  },
  {
   "cell_type": "code",
   "execution_count": null,
   "metadata": {},
   "outputs": [],
   "source": []
  }
 ],
 "metadata": {
  "kernelspec": {
   "display_name": "Python 3 (assignment)",
   "language": "python",
   "name": "assignment"
  },
  "language_info": {
   "codemirror_mode": {
    "name": "ipython",
    "version": 3
   },
   "file_extension": ".py",
   "mimetype": "text/x-python",
   "name": "python",
   "nbconvert_exporter": "python",
   "pygments_lexer": "ipython3",
   "version": "3.5.5"
  }
 },
 "nbformat": 4,
 "nbformat_minor": 2
}
