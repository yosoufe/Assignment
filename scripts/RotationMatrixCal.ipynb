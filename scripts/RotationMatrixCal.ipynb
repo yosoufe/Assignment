{
 "cells": [
  {
   "cell_type": "code",
   "execution_count": 1,
   "metadata": {},
   "outputs": [
    {
     "name": "stdout",
     "output_type": "stream",
     "text": [
      "/home/yousof/RideCellAssignment/scripts\r\n"
     ]
    }
   ],
   "source": [
    "import numpy as np\n",
    "import csv\n",
    "import scipy.io\n",
    "!pwd"
   ]
  },
  {
   "cell_type": "code",
   "execution_count": 2,
   "metadata": {},
   "outputs": [],
   "source": [
    "csvFile = \"res.txt\""
   ]
  },
  {
   "cell_type": "code",
   "execution_count": 3,
   "metadata": {},
   "outputs": [
    {
     "name": "stdout",
     "output_type": "stream",
     "text": [
      "<class 'float'> [-0.0135694, 0.0484322, -0.998734, 0.985475, -0.121977, 0.118152, -1.69102]\n"
     ]
    }
   ],
   "source": [
    "# read the csv file\n",
    "vectors = []\n",
    "with open(csvFile) as f:\n",
    "    csvReader = csv.reader(f, delimiter = ',')\n",
    "    for row in csvReader:\n",
    "        vectors.append([float(e) for e in row])\n",
    "        \n",
    "print(type (vectors[0][0]),vectors[0])"
   ]
  },
  {
   "cell_type": "code",
   "execution_count": 4,
   "metadata": {},
   "outputs": [
    {
     "name": "stdout",
     "output_type": "stream",
     "text": [
      "(35, 7)\n"
     ]
    }
   ],
   "source": [
    "vecs = np.array(vectors,dtype = np.float32)\n",
    "print(vecs.shape)"
   ]
  },
  {
   "cell_type": "code",
   "execution_count": 5,
   "metadata": {},
   "outputs": [
    {
     "name": "stdout",
     "output_type": "stream",
     "text": [
      "[-0.0135694  0.0484322 -0.998734 ]\n",
      "[ 0.985475 -0.121977  0.118152]\n"
     ]
    }
   ],
   "source": [
    "noramlFromCam = vecs[:,:3]\n",
    "noramlFromPC = vecs[:,3:6]\n",
    "print(noramlFromCam[0,:])\n",
    "print(noramlFromPC[0,:])"
   ]
  },
  {
   "cell_type": "code",
   "execution_count": null,
   "metadata": {
    "scrolled": true
   },
   "outputs": [],
   "source": [
    "# check the norm of the normal vectors\n",
    "for i in range(vecs.shape[0]):\n",
    "    print(i, 'from cam', np.linalg.norm(noramlFromCam[i,:]), 'from PC', np.linalg.norm(noramlFromPC[i,:]))"
   ]
  },
  {
   "cell_type": "code",
   "execution_count": 9,
   "metadata": {
    "scrolled": false
   },
   "outputs": [
    {
     "name": "stdout",
     "output_type": "stream",
     "text": [
      "A_c:\n",
      "[[ 0.         0.998734   0.0484322]\n",
      " [-0.998734   0.         0.0135694]\n",
      " [-0.0484322 -0.0135694  0.       ]]\n",
      "A_l:\n",
      "[[-0.985475  0.121977 -0.118152  0.        0.        0.        0.\n",
      "   0.        0.      ]\n",
      " [ 0.        0.        0.       -0.985475  0.121977 -0.118152  0.\n",
      "   0.        0.      ]\n",
      " [ 0.        0.        0.        0.        0.        0.       -0.985475\n",
      "   0.121977 -0.118152]]\n",
      "A: \n",
      "[[ 0.          0.          0.         -0.9842274   0.12182258 -0.11800242\n",
      "  -0.04772872  0.00590761 -0.00572236]\n",
      " [ 0.9842274  -0.12182258  0.11800242  0.          0.          0.\n",
      "  -0.0133723   0.00165515 -0.00160325]\n",
      " [ 0.04772872 -0.00590761  0.00572236  0.0133723  -0.00165515  0.00160325\n",
      "   0.          0.          0.        ]]\n"
     ]
    }
   ],
   "source": [
    "v_c = noramlFromCam[0,:]\n",
    "v_l = noramlFromPC[0,:] * (-1)\n",
    "# reform the equation according to the notebook for one example\n",
    "A_c = np.array([[0, -v_c[2], v_c[1]],\n",
    "               [v_c[2], 0 , -v_c[0]],\n",
    "               [-v_c[1], v_c[0], 0]], dtype = np.float32)\n",
    "A_l = np.zeros((3,9), dtype=np.float32)\n",
    "expanded = np.expand_dims(v_l,0)\n",
    "A_l[0,0:3] = expanded\n",
    "A_l[1,3:6] = expanded\n",
    "A_l[2,6:9] = expanded\n",
    "print(\"A_c:\")\n",
    "print(A_c)\n",
    "print(\"A_l:\")\n",
    "print(A_l)\n",
    "A = np.matmul(A_c,A_l)\n",
    "print (\"A: \")\n",
    "print(A)"
   ]
  },
  {
   "cell_type": "code",
   "execution_count": 10,
   "metadata": {},
   "outputs": [
    {
     "name": "stdout",
     "output_type": "stream",
     "text": [
      "(105, 9)\n",
      "[[ 0.          0.          0.         -0.984228    0.12182266 -0.1180025\n",
      "  -0.04772875  0.00590762 -0.00572237]\n",
      " [ 0.984228   -0.12182266  0.1180025   0.          0.          0.\n",
      "  -0.01337231  0.00165516 -0.00160325]\n",
      " [ 0.04772875 -0.00590762  0.00572237  0.01337231 -0.00165516  0.00160325\n",
      "   0.          0.          0.        ]\n",
      " [ 0.          0.          0.         -0.98013526  0.11438649 -0.15066895\n",
      "   0.03092683 -0.00360931  0.00475415]\n",
      " [ 0.98013526 -0.11438649  0.15066895  0.          0.          0.\n",
      "  -0.0496547   0.00579494 -0.00763305]\n",
      " [-0.03092683  0.00360931 -0.00475415  0.0496547  -0.00579494  0.00763305\n",
      "   0.          0.          0.        ]]\n"
     ]
    }
   ],
   "source": [
    "# make the big A matrix in equation AR = 0\n",
    "A = np.empty((0,9), dtype=np.float32)\n",
    "for idx in range(vecs.shape[0]):\n",
    "    v_c = noramlFromCam[idx,:]\n",
    "    v_l = noramlFromPC[idx,:]\n",
    "    if (v_l[0]>0):\n",
    "        v_l = v_l * (-1)\n",
    "    v_c = v_c / np.linalg.norm(v_c)\n",
    "    v_l = v_l /  np.linalg.norm(v_l)\n",
    "#     print(v_c,v_l, np.linalg.norm(v_c), np.linalg.norm(v_l))\n",
    "    A_c = np.array([[0, -v_c[2], v_c[1]],\n",
    "                    [v_c[2], 0 , -v_c[0]],\n",
    "                    [-v_c[1], v_c[0], 0]], dtype = np.float32)\n",
    "    A_l = np.zeros((3,9), dtype=np.float32)\n",
    "    expanded = np.expand_dims(v_l,0)\n",
    "    A_l[0,0:3] = expanded\n",
    "    A_l[1,3:6] = expanded\n",
    "    A_l[2,6:9] = expanded\n",
    "    a = np.matmul(A_c,A_l)\n",
    "    A = np.concatenate((A,a),axis=0)\n",
    "print (A.shape)\n",
    "print (A[:6,:])\n",
    "scipy.io.savemat('A.mat',mdict={'A': A}) # to check the svd in Matlab as well."
   ]
  },
  {
   "cell_type": "code",
   "execution_count": 11,
   "metadata": {},
   "outputs": [
    {
     "name": "stdout",
     "output_type": "stream",
     "text": [
      "v: (9, 9)\n",
      "[[-6.24727570e-02 -2.75775301e-03 -1.78898256e-02  9.42671537e-01\n",
      "  -9.80177429e-03  2.67323285e-01  1.80390745e-01 -2.63732788e-03\n",
      "   5.50845340e-02]\n",
      " [ 9.54319954e-01 -5.24748750e-02  2.67519057e-01  5.45265861e-02\n",
      "  -2.53075603e-02  1.49208158e-02  4.47900556e-02  9.43625420e-02\n",
      "   1.43762687e-02]\n",
      " [ 2.31708344e-02 -6.44713402e-01  1.70271173e-02  1.20051824e-01\n",
      "   1.49038536e-02  2.84097567e-02 -6.11208379e-01 -3.89311969e-01\n",
      "  -2.07211629e-01]\n",
      " [-8.31754296e-05  8.75722244e-02 -2.08794154e-05 -1.43764289e-02\n",
      "  -9.73319769e-01  3.39309475e-03  1.34951128e-02 -2.11042821e-01\n",
      "   6.35181135e-03]\n",
      " [-1.26455054e-01 -3.35427195e-01  8.23262557e-02  3.48264389e-02\n",
      "  -2.24145964e-01 -1.02262087e-02 -2.02111557e-01  8.78671288e-01\n",
      "  -1.57764722e-02]\n",
      " [ 1.81012601e-01  2.54117817e-01 -5.92207670e-01  2.35349134e-01\n",
      "  -9.16665886e-03 -6.11060202e-01 -2.45146424e-01  9.92393568e-02\n",
      "  -2.30511531e-01]\n",
      " [ 1.83967844e-01  2.01157853e-02 -6.70186400e-01 -1.75710753e-01\n",
      "  -1.26555925e-02  6.80315077e-01 -1.09980106e-01  8.43695104e-02\n",
      "   5.93678392e-02]\n",
      " [-4.13483419e-02  6.26874030e-01  3.37428421e-01  6.70411885e-02\n",
      "   3.39820683e-02  2.33650208e-01 -6.52689517e-01  5.96066862e-02\n",
      "  -4.07803953e-02]\n",
      " [-2.28778701e-02  5.87502681e-02  8.56054127e-02 -4.25116196e-02\n",
      "  -7.04137469e-03  1.91250667e-01  2.29456171e-01  4.90201451e-02\n",
      "  -9.46155369e-01]]\n",
      "s: (9,)\n",
      "[5.400689   5.2091     2.3899615  2.2859051  1.3039548  0.71868455\n",
      " 0.6688849  0.30031732 0.07848681]\n",
      "u: (105, 105)\n",
      "[[-0.17951103 -0.0115515  -0.03834251 ... -0.03886353 -0.09744278\n",
      "   0.03024304]\n",
      " [-0.0121776   0.18751094  0.04653483 ... -0.03547072 -0.24121343\n",
      "   0.00129132]\n",
      " [ 0.00184841  0.00925003  0.00277759 ... -0.04228108 -0.02020281\n",
      "   0.04772912]\n",
      " ...\n",
      " [-0.06249991 -0.00500549 -0.01351064 ...  0.9350992  -0.00177536\n",
      "   0.07831499]\n",
      " [-0.01785562  0.07613828  0.1499178  ...  0.00910005  0.57188636\n",
      "  -0.08499615]\n",
      " [ 0.07262805  0.01921938  0.04227074 ...  0.08019412 -0.07182153\n",
      "   0.89044195]]\n"
     ]
    }
   ],
   "source": [
    "# calculate the SVD and solve for R in AR = 0\n",
    "u,s,v = np.linalg.svd(A)\n",
    "print(\"v:\", v.shape)\n",
    "print(v)\n",
    "print(\"s:\", s.shape)\n",
    "print(s)\n",
    "print(\"u:\", u.shape)\n",
    "print(u)"
   ]
  },
  {
   "cell_type": "code",
   "execution_count": 12,
   "metadata": {},
   "outputs": [
    {
     "name": "stdout",
     "output_type": "stream",
     "text": [
      "[-0.02287787  0.05875027  0.08560541 -0.04251162 -0.00704137  0.19125067\n",
      "  0.22945617  0.04902015 -0.94615537]\n"
     ]
    }
   ],
   "source": [
    "R_vec = v[-1,:]\n",
    "print(R_vec)"
   ]
  },
  {
   "cell_type": "code",
   "execution_count": 13,
   "metadata": {},
   "outputs": [
    {
     "name": "stdout",
     "output_type": "stream",
     "text": [
      "[[-0.02287787  0.05875027  0.08560541]\n",
      " [-0.04251162 -0.00704137  0.19125067]\n",
      " [ 0.22945617  0.04902015 -0.94615537]]\n"
     ]
    }
   ],
   "source": [
    "# reshape to R\n",
    "R = R_vec.reshape((3,3))\n",
    "print(R)"
   ]
  },
  {
   "cell_type": "code",
   "execution_count": 14,
   "metadata": {},
   "outputs": [
    {
     "name": "stdout",
     "output_type": "stream",
     "text": [
      "norm of column 0 is 0.23447978\n",
      "norm of column 1 is 0.07683846\n",
      "norm of column 2 is 0.9690795\n",
      "R*R.transpose= \n",
      "[[ 0.01130328  0.01693098 -0.08336554]\n",
      " [ 0.01693098  0.03843364 -0.19105257]\n",
      " [-0.08336554 -0.19105257  0.9502631 ]]\n"
     ]
    }
   ],
   "source": [
    "# Check how close it is to a rotation matrix now\n",
    "def check(R):\n",
    "    for i in range(3):\n",
    "        n = np.linalg.norm(R[:,i])\n",
    "        print(\"norm of column\", i , \"is\" , n)\n",
    "\n",
    "    print (\"R*R.transpose= \")\n",
    "    RRT = np.matmul(R,R.transpose())\n",
    "    print (RRT)\n",
    "\n",
    "check(R)"
   ]
  },
  {
   "cell_type": "code",
   "execution_count": 15,
   "metadata": {},
   "outputs": [
    {
     "name": "stdout",
     "output_type": "stream",
     "text": [
      "S: [0.99801016 0.06294069 0.00377406]\n",
      "[[ 0.06455245  0.9959525  -0.06254325]\n",
      " [-0.9968653   0.06723084  0.04170914]\n",
      " [ 0.04574517  0.05965477  0.9971703 ]]\n"
     ]
    }
   ],
   "source": [
    "# try to turn it to a rotational Matrix\n",
    "U,S,V = np.linalg.svd(R)\n",
    "R_new = np.matmul(U, V.transpose()) #.transpose()\n",
    "print(\"S:\",S)\n",
    "print(R_new)"
   ]
  },
  {
   "cell_type": "code",
   "execution_count": null,
   "metadata": {},
   "outputs": [],
   "source": [
    "check(R_new)"
   ]
  },
  {
   "cell_type": "code",
   "execution_count": null,
   "metadata": {},
   "outputs": [],
   "source": [
    "print(np.matmul(A,v[-1,:]))"
   ]
  },
  {
   "cell_type": "code",
   "execution_count": null,
   "metadata": {},
   "outputs": [],
   "source": [
    "import random"
   ]
  },
  {
   "cell_type": "code",
   "execution_count": 6,
   "metadata": {},
   "outputs": [
    {
     "ename": "NameError",
     "evalue": "name 'random' is not defined",
     "output_type": "error",
     "traceback": [
      "\u001b[0;31m---------------------------------------------------------------------------\u001b[0m",
      "\u001b[0;31mNameError\u001b[0m                                 Traceback (most recent call last)",
      "\u001b[0;32m<ipython-input-6-750e5f03b6c8>\u001b[0m in \u001b[0;36m<module>\u001b[0;34m()\u001b[0m\n\u001b[1;32m      4\u001b[0m \u001b[0mn_samples\u001b[0m \u001b[0;34m=\u001b[0m \u001b[0;36m4\u001b[0m\u001b[0;34m\u001b[0m\u001b[0m\n\u001b[1;32m      5\u001b[0m \u001b[0;32mfor\u001b[0m \u001b[0mi\u001b[0m \u001b[0;32min\u001b[0m \u001b[0mrange\u001b[0m\u001b[0;34m(\u001b[0m\u001b[0;36m100\u001b[0m\u001b[0;34m)\u001b[0m\u001b[0;34m:\u001b[0m\u001b[0;34m\u001b[0m\u001b[0m\n\u001b[0;32m----> 6\u001b[0;31m     \u001b[0midxs\u001b[0m \u001b[0;34m=\u001b[0m \u001b[0mrandom\u001b[0m\u001b[0;34m.\u001b[0m\u001b[0msample\u001b[0m\u001b[0;34m(\u001b[0m\u001b[0mrange\u001b[0m\u001b[0;34m(\u001b[0m\u001b[0mvecs\u001b[0m\u001b[0;34m.\u001b[0m\u001b[0mshape\u001b[0m\u001b[0;34m[\u001b[0m\u001b[0;36m0\u001b[0m\u001b[0;34m]\u001b[0m\u001b[0;34m)\u001b[0m\u001b[0;34m,\u001b[0m \u001b[0mn_samples\u001b[0m\u001b[0;34m)\u001b[0m\u001b[0;34m\u001b[0m\u001b[0m\n\u001b[0m\u001b[1;32m      7\u001b[0m     \u001b[0mA\u001b[0m \u001b[0;34m=\u001b[0m \u001b[0mnp\u001b[0m\u001b[0;34m.\u001b[0m\u001b[0mempty\u001b[0m\u001b[0;34m(\u001b[0m\u001b[0;34m(\u001b[0m\u001b[0;36m0\u001b[0m\u001b[0;34m,\u001b[0m\u001b[0;36m9\u001b[0m\u001b[0;34m)\u001b[0m\u001b[0;34m,\u001b[0m \u001b[0mdtype\u001b[0m\u001b[0;34m=\u001b[0m\u001b[0mnp\u001b[0m\u001b[0;34m.\u001b[0m\u001b[0mfloat32\u001b[0m\u001b[0;34m)\u001b[0m\u001b[0;34m\u001b[0m\u001b[0m\n\u001b[1;32m      8\u001b[0m     \u001b[0;32mfor\u001b[0m \u001b[0midx\u001b[0m \u001b[0;32min\u001b[0m \u001b[0midxs\u001b[0m\u001b[0;34m:\u001b[0m\u001b[0;34m\u001b[0m\u001b[0m\n",
      "\u001b[0;31mNameError\u001b[0m: name 'random' is not defined"
     ]
    }
   ],
   "source": [
    "Rotations = []\n",
    "losses = []\n",
    "samples = []\n",
    "n_samples = 4\n",
    "for i in range(100):\n",
    "    idxs = random.sample(range(vecs.shape[0]), n_samples)\n",
    "    A = np.empty((0,9), dtype=np.float32)\n",
    "    for idx in idxs:\n",
    "        v_c = noramlFromCam[idx,:]\n",
    "        v_l = noramlFromPC[idx,:]\n",
    "        if (v_l[0]>0):\n",
    "            v_l = v_l * (-1)\n",
    "        v_c = v_c / np.linalg.norm(v_c)\n",
    "        v_l = v_l /  np.linalg.norm(v_l)\n",
    "        A_c = np.array([[0, -v_c[2], v_c[1]],\n",
    "                        [v_c[2], 0 , -v_c[0]],\n",
    "                        [-v_c[1], v_c[0], 0]], dtype = np.float32)\n",
    "        A_l = np.zeros((3,9), dtype=np.float32)\n",
    "        expanded = np.expand_dims(v_l,0)\n",
    "        A_l[0,0:3] = expanded\n",
    "        A_l[1,3:6] = expanded\n",
    "        A_l[2,6:9] = expanded\n",
    "        a = np.matmul(A_c,A_l)\n",
    "        A = np.concatenate((A,a),axis=0)\n",
    "    u,s,v = np.linalg.svd(A)\n",
    "    R_v = v[-1,:]\n",
    "    R = R_v.reshape((3,3))\n",
    "    loss = np.linalg.norm(np.matmul(A,v[-1,:]))\n",
    "    Rotations.append(R)\n",
    "    losses.append(loss)\n",
    "    samples.append(idxs)"
   ]
  },
  {
   "cell_type": "code",
   "execution_count": null,
   "metadata": {},
   "outputs": [],
   "source": [
    "print(min(losses),\"|\",losses.index(min(losses)))"
   ]
  },
  {
   "cell_type": "code",
   "execution_count": null,
   "metadata": {},
   "outputs": [],
   "source": [
    "print(losses)"
   ]
  },
  {
   "cell_type": "code",
   "execution_count": null,
   "metadata": {},
   "outputs": [],
   "source": [
    "print(Rotations[87])\n",
    "check(Rotations[87])"
   ]
  },
  {
   "cell_type": "code",
   "execution_count": null,
   "metadata": {},
   "outputs": [],
   "source": [
    "U,S,V = np.linalg.svd(Rotations[0])\n",
    "R_new = np.matmul(U, V)\n",
    "print(\"S:\",S)\n",
    "print(R_new)"
   ]
  },
  {
   "cell_type": "code",
   "execution_count": 8,
   "metadata": {},
   "outputs": [
    {
     "name": "stdout",
     "output_type": "stream",
     "text": [
      "[[1.         0.         0.        ]\n",
      " [0.         1.         0.        ]\n",
      " [0.         0.         0.99999994]]\n",
      "[[-0.08604091 -0.9962046   0.01316683]\n",
      " [ 0.07531615 -0.01968187 -0.99696535]\n",
      " [ 0.9934407  -0.08478814  0.07672376]]\n"
     ]
    }
   ],
   "source": [
    "A = np.empty((3,0), dtype=np.float32)\n",
    "B = np.empty((3,0), dtype=np.float32)\n",
    "for idx in range(vecs.shape[0]):\n",
    "    v_c = noramlFromCam[idx,:]\n",
    "    v_l = noramlFromPC[idx,:]\n",
    "    if (v_l[0]>0):\n",
    "        v_l = v_l * (-1)\n",
    "    v_c = v_c / np.linalg.norm(v_c)\n",
    "    v_l = v_l /  np.linalg.norm(v_l)\n",
    "    expanded_c = np.expand_dims(v_c,0)\n",
    "    expanded_l = np.expand_dims(v_l,0)\n",
    "    A = np.concatenate((A,expanded_c.reshape(3,1)),axis=1)\n",
    "    B = np.concatenate((B,expanded_l.reshape(3,1)),axis=1)\n",
    "    \n",
    "u,s,vt = np.linalg.svd(np.matmul(B,A.transpose()))\n",
    "mid = np.identity(3,dtype=np.float32)\n",
    "mid[2,2] = np.linalg.det(np.matmul(u,vt))\n",
    "print(mid)\n",
    "R = np.matmul(np.matmul(vt.transpose(),mid),u.transpose())\n",
    "print(R)"
   ]
  },
  {
   "cell_type": "code",
   "execution_count": null,
   "metadata": {},
   "outputs": [],
   "source": []
  }
 ],
 "metadata": {
  "kernelspec": {
   "display_name": "Python 3 (assignment)",
   "language": "python",
   "name": "assignment"
  },
  "language_info": {
   "codemirror_mode": {
    "name": "ipython",
    "version": 3
   },
   "file_extension": ".py",
   "mimetype": "text/x-python",
   "name": "python",
   "nbconvert_exporter": "python",
   "pygments_lexer": "ipython3",
   "version": "3.5.5"
  }
 },
 "nbformat": 4,
 "nbformat_minor": 2
}
