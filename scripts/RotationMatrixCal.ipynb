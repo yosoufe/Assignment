{
 "cells": [
  {
   "cell_type": "code",
   "execution_count": 1,
   "metadata": {},
   "outputs": [
    {
     "name": "stdout",
     "output_type": "stream",
     "text": [
      "/home/yousof/RideCellAssignment/scripts\r\n"
     ]
    }
   ],
   "source": [
    "import numpy as np\n",
    "import csv\n",
    "import scipy.io\n",
    "!pwd"
   ]
  },
  {
   "cell_type": "code",
   "execution_count": 2,
   "metadata": {},
   "outputs": [],
   "source": [
    "csvFile = \"res.txt\""
   ]
  },
  {
   "cell_type": "code",
   "execution_count": 3,
   "metadata": {},
   "outputs": [
    {
     "name": "stdout",
     "output_type": "stream",
     "text": [
      "<class 'float'> [-0.0135694, 0.0484322, -0.998734, 0.985475, -0.121977, 0.118152, -1.69102]\n"
     ]
    }
   ],
   "source": [
    "# read the csv file\n",
    "vectors = []\n",
    "with open(csvFile) as f:\n",
    "    csvReader = csv.reader(f, delimiter = ',')\n",
    "    for row in csvReader:\n",
    "        vectors.append([float(e) for e in row])\n",
    "        \n",
    "print(type (vectors[0][0]),vectors[0])"
   ]
  },
  {
   "cell_type": "code",
   "execution_count": 4,
   "metadata": {},
   "outputs": [
    {
     "name": "stdout",
     "output_type": "stream",
     "text": [
      "(35, 7)\n"
     ]
    }
   ],
   "source": [
    "vecs = np.array(vectors,dtype = np.float32)\n",
    "print(vecs.shape)"
   ]
  },
  {
   "cell_type": "code",
   "execution_count": 5,
   "metadata": {},
   "outputs": [
    {
     "name": "stdout",
     "output_type": "stream",
     "text": [
      "[-0.0135694  0.0484322 -0.998734 ]\n",
      "[ 0.985475 -0.121977  0.118152]\n"
     ]
    }
   ],
   "source": [
    "noramlFromCam = vecs[:,:3]\n",
    "noramlFromPC = vecs[:,3:6]\n",
    "print(noramlFromCam[0,:])\n",
    "print(noramlFromPC[0,:])"
   ]
  },
  {
   "cell_type": "code",
   "execution_count": 8,
   "metadata": {},
   "outputs": [
    {
     "name": "stdout",
     "output_type": "stream",
     "text": [
      "Rotation Matrix from Lidar to CAmera frame:\n",
      "[[-0.08604091 -0.9962046   0.01316683]\n",
      " [ 0.07531615 -0.01968187 -0.99696535]\n",
      " [ 0.9934407  -0.08478814  0.07672376]]\n"
     ]
    }
   ],
   "source": [
    "A = np.empty((3,0), dtype=np.float32)\n",
    "B = np.empty((3,0), dtype=np.float32)\n",
    "for idx in range(vecs.shape[0]):\n",
    "    v_c = noramlFromCam[idx,:]\n",
    "    v_l = noramlFromPC[idx,:]\n",
    "    if (v_l[0]>0):\n",
    "        v_l = v_l * (-1)\n",
    "    v_c = v_c / np.linalg.norm(v_c)\n",
    "    v_l = v_l /  np.linalg.norm(v_l)\n",
    "    expanded_c = np.expand_dims(v_c,0)\n",
    "    expanded_l = np.expand_dims(v_l,0)\n",
    "    A = np.concatenate((A,expanded_c.reshape(3,1)),axis=1)\n",
    "    B = np.concatenate((B,expanded_l.reshape(3,1)),axis=1)\n",
    "    \n",
    "u,s,vt = np.linalg.svd(np.matmul(B,A.transpose()))\n",
    "mid = np.identity(3,dtype=np.float32)\n",
    "mid[2,2] = np.linalg.det(np.matmul(u,vt))\n",
    "R = np.matmul(np.matmul(vt.transpose(),mid),u.transpose())\n",
    "print(\"Rotation Matrix from Lidar to CAmera frame:\")\n",
    "print(R)"
   ]
  }
 ],
 "metadata": {
  "kernelspec": {
   "display_name": "Python 3 (assignment)",
   "language": "python",
   "name": "assignment"
  },
  "language_info": {
   "codemirror_mode": {
    "name": "ipython",
    "version": 3
   },
   "file_extension": ".py",
   "mimetype": "text/x-python",
   "name": "python",
   "nbconvert_exporter": "python",
   "pygments_lexer": "ipython3",
   "version": "3.5.5"
  }
 },
 "nbformat": 4,
 "nbformat_minor": 2
}
